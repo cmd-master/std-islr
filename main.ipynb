{
 "cells": [
  {
   "cell_type": "code",
   "execution_count": null,
   "id": "f03c03c4",
   "metadata": {},
   "outputs": [],
   "source": [
    "%matplotlib inline\n",
    "import matplotlib.pyplot as plt\n",
    "import seaborn as sns; sns.set()\n",
    "import numpy as np"
   ]
  },
  {
   "cell_type": "markdown",
   "id": "f52ca568",
   "metadata": {},
   "source": [
    "# Simple Linear Regression\n",
    "A straight-line fit is a model of the form *y = ax + b* where *a* is commonly known as the slope, and *b* is the intercept."
   ]
  },
  {
   "cell_type": "code",
   "execution_count": null,
   "id": "8090c11e",
   "metadata": {},
   "outputs": [],
   "source": [
    "from scipy.stats import norm\n",
    "norm.cdf(0.6772)"
   ]
  },
  {
   "cell_type": "code",
   "execution_count": null,
   "id": "a4d92b2f",
   "metadata": {},
   "outputs": [],
   "source": [
    "rng = np.random.RandomState(1)\n",
    "x = 10 * rng.rand(50)\n",
    "y = 2 * x - 5 + rng.randn(50)\n",
    "plt.scatter(x, y);"
   ]
  },
  {
   "cell_type": "code",
   "execution_count": null,
   "id": "a3624475",
   "metadata": {},
   "outputs": [],
   "source": [
    "from sklearn.linear_model import LinearRegression\n",
    "model = LinearRegression(fit_intercept=True) ## init\n",
    "model.fit(x[:, np.newaxis], y) ## fit\n",
    "xfit = np.linspace(0, 10, 1000)\n",
    "yfit = model.predict(xfit[:, np.newaxis]) ## predict\n",
    "\n",
    "plt.scatter(x, y)\n",
    "plt.plot(xfit, yfit);"
   ]
  },
  {
   "cell_type": "code",
   "execution_count": null,
   "id": "543fb606",
   "metadata": {},
   "outputs": [],
   "source": [
    "model.coef_"
   ]
  },
  {
   "cell_type": "code",
   "execution_count": null,
   "id": "96d1e990",
   "metadata": {},
   "outputs": [],
   "source": [
    "model.intercept_"
   ]
  },
  {
   "cell_type": "code",
   "execution_count": null,
   "id": "4d72085f",
   "metadata": {},
   "outputs": [],
   "source": [
    "rng = np.random.RandomState(1)\n",
    "X = 10 * rng.rand(100, 3)\n",
    "y = 0.5 + np.dot(X, [1.5, -2., 1.])\n",
    "model.fit(X, y)\n",
    "print(model.intercept_)\n",
    "print(model.coef_)"
   ]
  },
  {
   "cell_type": "markdown",
   "id": "f44ff080",
   "metadata": {},
   "source": [
    "# Advertising Data\n",
    "Explore"
   ]
  },
  {
   "cell_type": "code",
   "execution_count": null,
   "id": "87ce5ff7",
   "metadata": {},
   "outputs": [],
   "source": [
    "import pandas as pd\n",
    "adv = pd.read_csv('../_input/islr/Advertising.csv', usecols=(1,2,3,4))"
   ]
  },
  {
   "cell_type": "code",
   "execution_count": null,
   "id": "e4bb65e0",
   "metadata": {},
   "outputs": [],
   "source": [
    "adv"
   ]
  },
  {
   "cell_type": "markdown",
   "id": "f7436153",
   "metadata": {},
   "source": [
    "We predict Sales by using the spending for TV, Radio and Newspaper."
   ]
  },
  {
   "cell_type": "code",
   "execution_count": null,
   "id": "62bc131c",
   "metadata": {},
   "outputs": [],
   "source": [
    "import seaborn as sns\n",
    "import matplotlib.pyplot as plt\n",
    "\n",
    "fig, ax = plt.subplots(2,2)\n",
    "\n",
    "sns.regplot(x='TV',y='Sales', data=adv, ax=ax[0,0])\n",
    "sns.regplot(x='Radio',y='Sales', data=adv, ax=ax[0,1])\n",
    "sns.regplot(x='Newspaper',y='Sales', data=adv, ax=ax[1,0]);"
   ]
  },
  {
   "cell_type": "markdown",
   "id": "7ee8c5aa",
   "metadata": {},
   "source": [
    "We use sklearn to get the slope and intercept of the data between TV and Sales."
   ]
  },
  {
   "cell_type": "code",
   "execution_count": null,
   "id": "7224644b",
   "metadata": {},
   "outputs": [],
   "source": [
    "from sklearn.linear_model import LinearRegression\n",
    "import numpy as np\n",
    "lm = LinearRegression() # init\n",
    "xfit = lm.fit(adv['TV'].values[:, np.newaxis], adv['Sales'].values) # fit"
   ]
  },
  {
   "cell_type": "code",
   "execution_count": null,
   "id": "fbd23adc",
   "metadata": {},
   "outputs": [],
   "source": [
    "xfit.coef_"
   ]
  },
  {
   "cell_type": "code",
   "execution_count": null,
   "id": "15e7be8d",
   "metadata": {},
   "outputs": [],
   "source": [
    "xfit.intercept_"
   ]
  },
  {
   "cell_type": "markdown",
   "id": "485042c1",
   "metadata": {},
   "source": [
    "Graph the line into the dataset to see how it fits."
   ]
  },
  {
   "cell_type": "code",
   "execution_count": null,
   "id": "ef64c21f",
   "metadata": {},
   "outputs": [],
   "source": [
    "sns.regplot(x='TV', y='Sales', data=adv)\n",
    "plt.plot([0, 250],[xfit.predict([[0]]), xfit.predict([[250]])]);"
   ]
  },
  {
   "cell_type": "markdown",
   "id": "abfa73fd",
   "metadata": {},
   "source": [
    "If X is at zero, then the value of y would below and this is the intercept."
   ]
  },
  {
   "cell_type": "code",
   "execution_count": null,
   "id": "59468e8a",
   "metadata": {},
   "outputs": [],
   "source": [
    "xfit.predict([[0]])"
   ]
  },
  {
   "cell_type": "markdown",
   "id": "68faab2f",
   "metadata": {},
   "source": [
    "If X is 5 and 250, then we get the corresponding values for Y. Add a line between these points and you get the regression line.\n",
    "\n",
    "But how are these coefficients being calculated?"
   ]
  },
  {
   "cell_type": "code",
   "execution_count": null,
   "id": "f2b50501",
   "metadata": {},
   "outputs": [],
   "source": [
    "[xfit.predict([[5]]), xfit.predict([[250]])]"
   ]
  },
  {
   "cell_type": "markdown",
   "id": "64a05928",
   "metadata": {},
   "source": [
    "# Estimating the Coefficients\n",
    "I want to calculate the intercept and slope manually so that I can understand the concept of it."
   ]
  },
  {
   "cell_type": "code",
   "execution_count": null,
   "id": "c311e203",
   "metadata": {},
   "outputs": [],
   "source": [
    "x = adv['TV']\n",
    "y = adv['Sales']"
   ]
  },
  {
   "cell_type": "markdown",
   "id": "6560eda9",
   "metadata": {},
   "source": [
    "There are two components to the slope. First is the sum distance of each point of x away from its means multiplied by distance of y from its mean. The denominator is the squared distance of x from its mean. This formula calculates the slope where RSS is minimized as small as possible."
   ]
  },
  {
   "cell_type": "code",
   "execution_count": null,
   "id": "67c2e879",
   "metadata": {},
   "outputs": [],
   "source": [
    "## Breaking down the slope\n",
    "distance_coefficient = sum((x - x.mean()) * (y - y.mean()))\n",
    "spread_x = sum((x - x.mean())**2)\n",
    "slope =  distance_coefficient / spread_x\n",
    "slope"
   ]
  },
  {
   "cell_type": "code",
   "execution_count": null,
   "id": "e887b802",
   "metadata": {},
   "outputs": [],
   "source": [
    "# b0 is the intercept\n",
    "intercept = y.mean() - slope * x.mean()\n",
    "intercept"
   ]
  },
  {
   "cell_type": "markdown",
   "id": "6dd2134b",
   "metadata": {},
   "source": [
    "The intercept is the starting point of the regression line. Remember that the regression line is the average of x and y. We get it by subtracting the product of slope and the x.mean by y mean."
   ]
  },
  {
   "cell_type": "code",
   "execution_count": null,
   "id": "c560c9d3",
   "metadata": {},
   "outputs": [],
   "source": [
    "yhat = intercept + slope * adv['TV']\n",
    "yhat"
   ]
  },
  {
   "cell_type": "markdown",
   "id": "634db518",
   "metadata": {},
   "source": [
    "Now that we know the intercept and slope, we can use the points of x to estimate the value of y by adding intercept and multiplying slope with all the points of x."
   ]
  },
  {
   "cell_type": "code",
   "execution_count": null,
   "id": "3de36c2c",
   "metadata": {},
   "outputs": [],
   "source": [
    "sns.relplot(x=x, y=y, alpha=.3)\n",
    "sns.lineplot(x=x, y=yhat, color='red');"
   ]
  },
  {
   "cell_type": "markdown",
   "id": "7c3372e2",
   "metadata": {},
   "source": [
    "We get the regression line - the line that has the minimum distance from all the points in our data."
   ]
  },
  {
   "cell_type": "markdown",
   "id": "af550bfb",
   "metadata": {},
   "source": [
    "# Assessing the Accuracy of the Coefficient Estimates"
   ]
  },
  {
   "cell_type": "markdown",
   "id": "ce4f1736",
   "metadata": {},
   "source": [
    "The regression line is based on the observed data. Which means that is only an estimate of truth based on what we currently know. There is a chance that the line would not exactly match the truth. So, instead of having a line estimate, we create a boundary around that line where we suspect that the true population line exists, which is called the Confidence Interval.\n",
    "\n",
    "If we ran a 100 trials, 95 of those would be within the confidence interval. And if you average all of those 100 trials, the outcome would be very close to the truth."
   ]
  },
  {
   "cell_type": "code",
   "execution_count": null,
   "id": "8b6033e0",
   "metadata": {},
   "outputs": [],
   "source": [
    "print(intercept, slope)"
   ]
  },
  {
   "cell_type": "markdown",
   "id": "91e59bf5",
   "metadata": {},
   "source": [
    "The confidence interval are just the standard deviations. A 95% confidence interval is around +- 1.98 standard deviations away from the mean. \n",
    "> The term SD is usually reserve for the population data. So instead, we use the term Standard Error or SE for the estimated data. But essentially, it is the same as the sd but for the estimated data."
   ]
  },
  {
   "cell_type": "code",
   "execution_count": null,
   "id": "2e51a932",
   "metadata": {},
   "outputs": [],
   "source": [
    "rss = sum((y - yhat)**2)\n",
    "rss"
   ]
  },
  {
   "cell_type": "markdown",
   "id": "f0a77085",
   "metadata": {},
   "source": [
    "To calculate of SE, we use the RSS or the sum of the squared distance between all the points away from yhat or the regression line that we made. It is essentially the variance of the estimated data. To get the SE, we square root the variance."
   ]
  },
  {
   "cell_type": "code",
   "execution_count": null,
   "id": "596de733",
   "metadata": {},
   "outputs": [],
   "source": [
    "n = len(adv)\n",
    "rse = np.sqrt((rss/(n-2)))\n",
    "rse"
   ]
  },
  {
   "cell_type": "markdown",
   "id": "cc6184bf",
   "metadata": {},
   "source": [
    "But because this is an estimate, we are making an assumption therefore we divide by n - 2 degrees of freedom. The result is the RSE or Residual Standard Error."
   ]
  },
  {
   "cell_type": "code",
   "execution_count": null,
   "id": "0b1ec2c6",
   "metadata": {},
   "outputs": [],
   "source": [
    "yhat.name = 'target'\n",
    "se_slope = np.sqrt(rse**2 / sum( (x - x.mean())**2 ) )\n",
    "se_slope"
   ]
  },
  {
   "cell_type": "code",
   "execution_count": null,
   "id": "e6e8d1d5",
   "metadata": {},
   "outputs": [],
   "source": [
    "se_intercept = np.sqrt(\n",
    "    rse**2 * ( 1/n + (x.mean()**2 / sum((x - x.mean())**2))  ))\n",
    "se_intercept"
   ]
  },
  {
   "cell_type": "code",
   "execution_count": null,
   "id": "fb6ea1b6",
   "metadata": {},
   "outputs": [],
   "source": [
    "slope + se_slope * 2"
   ]
  },
  {
   "cell_type": "code",
   "execution_count": null,
   "id": "35d7f3d3",
   "metadata": {},
   "outputs": [],
   "source": [
    "ci = 1.98\n",
    "yhat_se_up = (\n",
    "    (intercept + (ci*se_intercept)) + \n",
    "    (slope + (ci*se_slope)) *\n",
    "    adv['TV'])\n",
    "    \n",
    "yhat_se_down = (\n",
    "    (intercept -(ci*se_intercept)) +\n",
    "    (slope - (ci*se_slope)) *\n",
    "    adv['TV'])"
   ]
  },
  {
   "cell_type": "code",
   "execution_count": null,
   "id": "228d3933",
   "metadata": {},
   "outputs": [],
   "source": [
    "# sns.relplot(x=x, y=y, alpha=.3)\n",
    "# sns.lineplot(x=x, y=yhat, color='red');\n",
    "sns.regplot(x='TV', y='Sales', data=adv, n_boot=100)\n",
    "\n",
    "sns.lineplot(x=x, y=yhat_se_up, color='green');\n",
    "sns.lineplot(x=x, y=yhat_se_down, color='red');\n",
    "sns.lineplot(x=x, y=yhat, color='orange');\n",
    "\n"
   ]
  },
  {
   "cell_type": "markdown",
   "id": "dd76fbd3",
   "metadata": {},
   "source": [
    "## t-statistic\n",
    "From the standard Error, we calculate the t-statistic which is the exact point from the standard deviation."
   ]
  },
  {
   "cell_type": "code",
   "execution_count": null,
   "id": "f9577b22",
   "metadata": {},
   "outputs": [],
   "source": [
    "(slope - 0) / se_slope"
   ]
  },
  {
   "cell_type": "code",
   "execution_count": null,
   "id": "cdc936b3",
   "metadata": {},
   "outputs": [],
   "source": [
    "(intercept - 0) / se_intercept"
   ]
  },
  {
   "cell_type": "markdown",
   "id": "055ba4af",
   "metadata": {},
   "source": [
    "# Assessing the Accuracy of the Model\n",
    "Quantify the extent to which the model fits the data.\n",
    "- RSE 3.26\n",
    "- R2 0.612\n",
    "- F-statistic"
   ]
  },
  {
   "cell_type": "code",
   "execution_count": null,
   "id": "ae6d7598",
   "metadata": {},
   "outputs": [],
   "source": [
    "np.sqrt(sum((y - yhat)**2) / (n-2))"
   ]
  },
  {
   "cell_type": "code",
   "execution_count": null,
   "id": "36b30609",
   "metadata": {},
   "outputs": [],
   "source": [
    "tss = sum((y - y.mean())**2)\n",
    "tss"
   ]
  },
  {
   "cell_type": "markdown",
   "id": "2e35703b",
   "metadata": {},
   "source": [
    "TSS or Total Sum of Squares or Variance measures variability of Y before the regession is ran."
   ]
  },
  {
   "cell_type": "code",
   "execution_count": null,
   "id": "0c3528fc",
   "metadata": {},
   "outputs": [],
   "source": [
    "print(sum((y - yhat)**2))\n",
    "rss"
   ]
  },
  {
   "cell_type": "markdown",
   "id": "3220521d",
   "metadata": {},
   "source": [
    "In contrast, RSS measures the amount of variability that is left unexplained after performing the regression line."
   ]
  },
  {
   "cell_type": "code",
   "execution_count": null,
   "id": "d3346935",
   "metadata": {},
   "outputs": [],
   "source": [
    "r2 = (tss - rss) / tss\n",
    "r2"
   ]
  },
  {
   "cell_type": "code",
   "execution_count": null,
   "id": "8c6a3ed3",
   "metadata": {},
   "outputs": [],
   "source": []
  },
  {
   "cell_type": "code",
   "execution_count": null,
   "id": "6e24dd61",
   "metadata": {},
   "outputs": [],
   "source": [
    "sns.regplot(x='TV', y='Sales', data=adv, ci=False)\n",
    "sns.regplot(x=np.zeros(n), y='Sales', data=adv, ci=False)\n",
    "\n",
    "sns.lineplot(x=x, y=yhat, color='orange');\n",
    "sns.lineplot(x=x, y=y.mean(), color='blue');"
   ]
  },
  {
   "cell_type": "markdown",
   "id": "10104996",
   "metadata": {},
   "source": [
    "TSS - RSS measures the amount of variability in the response that is explained by performing the regression."
   ]
  },
  {
   "cell_type": "markdown",
   "id": "7cc637b6",
   "metadata": {},
   "source": [
    "# Multiple Linear Regression"
   ]
  },
  {
   "cell_type": "code",
   "execution_count": null,
   "id": "efbc11b1",
   "metadata": {},
   "outputs": [],
   "source": [
    "target = adv['Sales']"
   ]
  },
  {
   "cell_type": "code",
   "execution_count": null,
   "id": "bec15db8",
   "metadata": {},
   "outputs": [],
   "source": [
    "newspaper = adv['Newspaper']"
   ]
  },
  {
   "cell_type": "code",
   "execution_count": null,
   "id": "203017b1",
   "metadata": {},
   "outputs": [],
   "source": [
    "## Breaking down the slope\n",
    "def findSlope(x, y):\n",
    "    distance_coefficient = sum((x - x.mean()) * (y - y.mean()))\n",
    "    spread_x = sum((x - x.mean())**2)\n",
    "    slope =  distance_coefficient / spread_x\n",
    "    return slope"
   ]
  },
  {
   "cell_type": "code",
   "execution_count": null,
   "id": "9712354f",
   "metadata": {},
   "outputs": [],
   "source": [
    "slope = findSlope(newspaper, target)\n",
    "slope"
   ]
  },
  {
   "cell_type": "code",
   "execution_count": null,
   "id": "06f0b0e9",
   "metadata": {},
   "outputs": [],
   "source": [
    "def findIntercept(x, y, slope):\n",
    "    intercept = y.mean() - slope * x.mean()\n",
    "    return intercept"
   ]
  },
  {
   "cell_type": "code",
   "execution_count": null,
   "id": "5c5bf912",
   "metadata": {},
   "outputs": [],
   "source": [
    "intercept = findIntercept(newspaper, target, slope)\n",
    "intercept"
   ]
  },
  {
   "cell_type": "code",
   "execution_count": null,
   "id": "ebe510e2",
   "metadata": {},
   "outputs": [],
   "source": [
    "yhat = intercept + slope * newspaper"
   ]
  },
  {
   "cell_type": "code",
   "execution_count": null,
   "id": "ba40bb6a",
   "metadata": {},
   "outputs": [],
   "source": [
    "sns.regplot(x='Newspaper', y='Sales', data=adv)\n",
    "sns.lineplot(x=newspaper, y=yhat);"
   ]
  },
  {
   "cell_type": "code",
   "execution_count": null,
   "id": "481d71ef",
   "metadata": {},
   "outputs": [],
   "source": [
    "rss = sum((target - yhat)**2)\n",
    "rss"
   ]
  },
  {
   "cell_type": "code",
   "execution_count": null,
   "id": "fe1133c7",
   "metadata": {},
   "outputs": [],
   "source": [
    "rse = np.sqrt((rss / (n - 2)))\n",
    "rse"
   ]
  },
  {
   "cell_type": "code",
   "execution_count": null,
   "id": "271c6641",
   "metadata": {},
   "outputs": [],
   "source": [
    "se_slope = np.sqrt(rse**2 / sum( (newspaper - newspaper.mean())**2 ) )\n",
    "se_slope"
   ]
  },
  {
   "cell_type": "code",
   "execution_count": null,
   "id": "ed7f4d25",
   "metadata": {},
   "outputs": [],
   "source": [
    "se_intercept = np.sqrt(\n",
    "    rse**2 * ( 1/n + (newspaper.mean()**2 / sum((newspaper - newspaper.mean())**2))  ))\n",
    "se_intercept"
   ]
  },
  {
   "cell_type": "code",
   "execution_count": null,
   "id": "fed86493",
   "metadata": {},
   "outputs": [],
   "source": [
    "t_stat_intercept = (intercept - 0) / se_intercept\n",
    "t_stat_intercept"
   ]
  },
  {
   "cell_type": "code",
   "execution_count": null,
   "id": "3f1296a6",
   "metadata": {},
   "outputs": [],
   "source": [
    "t_stat_slope = (slope - 0) / se_slope\n",
    "t_stat_slope"
   ]
  },
  {
   "cell_type": "code",
   "execution_count": null,
   "id": "2768c714",
   "metadata": {},
   "outputs": [],
   "source": [
    "from scipy.stats import norm\n",
    "print(1-norm.cdf(t_stat_intercept), 1-norm.cdf(t_stat_slope))"
   ]
  },
  {
   "cell_type": "markdown",
   "id": "44c7f663",
   "metadata": {},
   "source": [
    "## Now do the Automated way"
   ]
  },
  {
   "cell_type": "code",
   "execution_count": null,
   "id": "4d658291",
   "metadata": {},
   "outputs": [],
   "source": [
    "from sklearn.linear_model import LinearRegression"
   ]
  },
  {
   "cell_type": "code",
   "execution_count": null,
   "id": "325bb0cc",
   "metadata": {},
   "outputs": [],
   "source": [
    "lm = LinearRegression()\n",
    "xfit = lm.fit(newspaper.values[:, np.newaxis], target.values)\n",
    "print(xfit.coef_, xfit.intercept_)"
   ]
  },
  {
   "cell_type": "markdown",
   "id": "69d76b62",
   "metadata": {},
   "source": [
    "For every 1000 usd we spend on Newspaper, we sell around 55 more units."
   ]
  },
  {
   "cell_type": "code",
   "execution_count": null,
   "id": "b291389e",
   "metadata": {},
   "outputs": [],
   "source": [
    "lm = LinearRegression()\n",
    "xfit = lm.fit(adv['Radio'].values[:, np.newaxis], target.values)\n",
    "print(xfit.coef_, xfit.intercept_)"
   ]
  },
  {
   "cell_type": "markdown",
   "id": "61ea716f",
   "metadata": {},
   "source": [
    "For every 1000 usd we spend on Radio, we sell around 202 more units."
   ]
  },
  {
   "cell_type": "code",
   "execution_count": null,
   "id": "66b4ae12",
   "metadata": {},
   "outputs": [],
   "source": [
    "adv.corr()"
   ]
  },
  {
   "cell_type": "code",
   "execution_count": null,
   "id": "f17f4086",
   "metadata": {},
   "outputs": [],
   "source": [
    "lm = LinearRegression()\n",
    "xfit = lm.fit(adv[['TV', 'Radio', 'Newspaper']].values, target.values)\n",
    "print(xfit.coef_, xfit.intercept_)"
   ]
  },
  {
   "cell_type": "code",
   "execution_count": null,
   "id": "dc81551c",
   "metadata": {},
   "outputs": [],
   "source": [
    "yhat = (xfit.intercept_ +\n",
    "        xfit.coef_[0] * adv['TV'] +\n",
    "        xfit.coef_[1] * adv['Radio'] +\n",
    "        xfit.coef_[2] * adv['Newspaper'] )"
   ]
  },
  {
   "cell_type": "code",
   "execution_count": null,
   "id": "b19fee4d",
   "metadata": {},
   "outputs": [],
   "source": [
    "rss = sum((target - yhat)**2)\n",
    "rss"
   ]
  },
  {
   "cell_type": "code",
   "execution_count": null,
   "id": "cc8a8838",
   "metadata": {},
   "outputs": [],
   "source": [
    "tss = sum((target - target.mean())**2)\n",
    "tss"
   ]
  },
  {
   "cell_type": "code",
   "execution_count": null,
   "id": "860ccef3",
   "metadata": {},
   "outputs": [],
   "source": [
    "f_stat = ((tss - rss)/3) / (rss/(n-3-1))\n",
    "f_stat"
   ]
  },
  {
   "cell_type": "markdown",
   "id": "9b913166",
   "metadata": {},
   "source": [
    "the large F-statistic suggests that at least one of the advertising media must be related to sales."
   ]
  },
  {
   "cell_type": "code",
   "execution_count": null,
   "id": "1be54ed9",
   "metadata": {},
   "outputs": [],
   "source": [
    "r2 = (tss-rss)/tss\n",
    "r2"
   ]
  },
  {
   "cell_type": "code",
   "execution_count": null,
   "id": "48a14c55",
   "metadata": {},
   "outputs": [],
   "source": [
    "rse = np.sqrt((rss / (n - 3 -1)))\n",
    "rse"
   ]
  },
  {
   "cell_type": "code",
   "execution_count": null,
   "id": "840ef52a",
   "metadata": {},
   "outputs": [],
   "source": []
  }
 ],
 "metadata": {
  "kernelspec": {
   "display_name": "Python 3 (ipykernel)",
   "language": "python",
   "name": "python3"
  },
  "language_info": {
   "codemirror_mode": {
    "name": "ipython",
    "version": 3
   },
   "file_extension": ".py",
   "mimetype": "text/x-python",
   "name": "python",
   "nbconvert_exporter": "python",
   "pygments_lexer": "ipython3",
   "version": "3.7.11"
  }
 },
 "nbformat": 4,
 "nbformat_minor": 5
}
